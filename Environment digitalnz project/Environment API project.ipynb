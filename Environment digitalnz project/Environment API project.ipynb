{
 "cells": [
  {
   "cell_type": "markdown",
   "metadata": {},
   "source": [
    "# Environment project\n",
    "Environment protection is one of the most urgent issues facing our world. Communication of this issue to the public has been done primarily by two main actors: the government and the media. The way these actors frame the issue can have material effects on public perception, whether it be positive or negative. The aim of this project is for you to explore how the environment is presented in various discourses and present any found insights. You will perform your analysis on text data, taken from the Digitalnz API."
   ]
  },
  {
   "cell_type": "markdown",
   "metadata": {},
   "source": [
    "Preparation steps\n",
    "<ul>\n",
    "<li>Go to https://digitalnz.org/</li>\n",
    "<li>Register using your email and create a password</li>\n",
    "<li>Copy your apikey</li>\n",
    "<li>Look at the \"Developer\" documentation</li>\n",
    "</ul>\n",
    "\n",
    "To make a request to the API, we must first import the requests library.  From there, we can use the \".request(URL)\" function, which takes a URL and returns a request object.  The URL \"http://api.digitalnz.org/v3/records.json?api_key=hqrCUtiAMUh3ksgfgwmF&text=environment&and[content_partner][]=Radio+New+Zealand&per_page=100\" is the request URL for the Digitalnz API.   The URL breaks down as follows: we search <b>Radio New Zealand</b> for articles with the keyword <b>\"Environment\"</b>.  Read the documentation in for more options.  "
   ]
  },
  {
   "cell_type": "code",
   "execution_count": 92,
   "metadata": {},
   "outputs": [],
   "source": [
    "import requests\n",
    "\n",
    "response  = requests.get(\"http://api.digitalnz.org/v3/records.json?api_key=hqrCUtiAMUh3ksgfgwmF&text=environment&and[content_partner][]=Radio+New+Zealand&fields=title,description,fulltext&per_page=100\") "
   ]
  },
  {
   "cell_type": "markdown",
   "metadata": {},
   "source": [
    "The next step is to convert the response object into a JSON object to work with the data.  A JSON object is a dictionary; you will use the dictionary operations to get the data you want.  Note that you will first print the JSON object, so you can see what keys store the data you want. In the following code, the titles and the descriptions of articles are read into two lists.   "
   ]
  },
  {
   "cell_type": "code",
   "execution_count": 108,
   "metadata": {
    "scrolled": false
   },
   "outputs": [],
   "source": [
    "import json # import json library\n",
    "json_response = response.json() # convert response\n",
    "\n",
    "\n",
    "#read to lists\n",
    "titles = []\n",
    "description = []\n",
    "for item in json_response[\"search\"][\"results\"]:\n",
    "    titles.append(item[\"title\"])\n",
    "    description.append(item[\"description\"])\n"
   ]
  },
  {
   "cell_type": "markdown",
   "metadata": {},
   "source": [
    "In the next section, you will preprocess your data.  The kind of processing you do is dependent on what you want to do with the data.  \n",
    "\n",
    "Things to consider\n",
    "- Which words are valuable to the analysis, and which are not?\n",
    "- How should you deal with punctuation?\n",
    "- Upper and lower case characters\n",
    "- Valid input for potential library functions\n"
   ]
  },
  {
   "cell_type": "code",
   "execution_count": 96,
   "metadata": {},
   "outputs": [],
   "source": [
    "import numpy as np #visuaisation\n",
    "import seaborn as sns # visulisation\n",
    "import matplotlib.pyplot as plt #visulisation\n",
    "import pandas\n",
    "punctuations = '''!()-[]{};:'\"\\,<>/?@#$%^&*_~'''\n",
    "no_punc = \"\"\n",
    "\n",
    "\n",
    "#create list of stop words using file\n",
    "stop_word_file = open(\"stop_words.txt\", \"r\")\n",
    "read_file = stop_word_file.read().replace('\"', '')\n",
    "stop_word_list = read_file.split(\",\")\n",
    "stop_word_list =list( map(lambda x: x.strip(),stop_word_list ))\n",
    "\n",
    "\n",
    "#your code\n",
    "\n"
   ]
  },
  {
   "cell_type": "markdown",
   "metadata": {},
   "source": [
    "Now yo can flex your data muscles.  \n",
    "\n",
    "Possible ideas\n",
    "- Look at the words that have the highest occurence\n",
    "- Look at words that frequently occur together \n",
    "- Train a classifier to classify subject (will require manual labelling)\n",
    "\n",
    "Here's a wee example to get you started. \n",
    "- Count the number of times the words in the description occur.\n",
    "- Filter them down to most occuring\n",
    "- Take out stop words\n",
    "- Plot the results"
   ]
  },
  {
   "cell_type": "code",
   "execution_count": 109,
   "metadata": {
    "scrolled": true
   },
   "outputs": [
    {
     "data": {
      "text/plain": [
       "<BarContainer object of 14 artists>"
      ]
     },
     "execution_count": 109,
     "metadata": {},
     "output_type": "execute_result"
    },
    {
     "data": {
      "image/png": "[encoded data removed]",
      "text/plain": [
       "<Figure size 432x288 with 1 Axes>"
      ]
     },
     "metadata": {},
     "output_type": "display_data"
    }
   ],
   "source": [
    "description_flat = \" \".join(description).lower()\n",
    "description_flat_list = titles_flat.split()\n",
    "word_dict = {}\n",
    "for word in description_flat_list:\n",
    "    if word in word_dict:\n",
    "        word_dict[word] += 1\n",
    "    else:\n",
    "        word_dict[word] = 1\n",
    "\n",
    "        \n",
    "x_axis = []\n",
    "y_axis = []\n",
    "for key in word_dict:\n",
    "    if word_dict[key] > 7 and not (key in stop_word_list):\n",
    "        x_axis.append(key)\n",
    "        y_axis.append(word_dict[key])\n",
    "\n",
    "plt.barh(x_axis,y_axis)"
   ]
  },
  {
   "cell_type": "code",
   "execution_count": null,
   "metadata": {
    "scrolled": true
   },
   "outputs": [],
   "source": []
  },
  {
   "cell_type": "code",
   "execution_count": null,
   "metadata": {},
   "outputs": [],
   "source": []
  },
  {
   "cell_type": "code",
   "execution_count": null,
   "metadata": {},
   "outputs": [],
   "source": []
  },
  {
   "cell_type": "code",
   "execution_count": 75,
   "metadata": {},
   "outputs": [
    {
     "ename": "SyntaxError",
     "evalue": "invalid syntax (<ipython-input-75-37cb61d2fc0f>, line 1)",
     "output_type": "error",
     "traceback": [
      "\u001b[1;36m  File \u001b[1;32m\"<ipython-input-75-37cb61d2fc0f>\"\u001b[1;36m, line \u001b[1;32m1\u001b[0m\n\u001b[1;33m    conda install pyDnz\u001b[0m\n\u001b[1;37m                ^\u001b[0m\n\u001b[1;31mSyntaxError\u001b[0m\u001b[1;31m:\u001b[0m invalid syntax\n"
     ]
    }
   ],
   "source": []
  },
  {
   "cell_type": "code",
   "execution_count": null,
   "metadata": {},
   "outputs": [],
   "source": []
  },
  {
   "cell_type": "code",
   "execution_count": null,
   "metadata": {},
   "outputs": [],
   "source": []
  }
 ],
 "metadata": {
  "kernelspec": {
   "display_name": "Python 3",
   "language": "python",
   "name": "python3"
  },
  "language_info": {
   "codemirror_mode": {
    "name": "ipython",
    "version": 3
   },
   "file_extension": ".py",
   "mimetype": "text/x-python",
   "name": "python",
   "nbconvert_exporter": "python",
   "pygments_lexer": "ipython3",
   "version": "3.6.5"
  }
 },
 "nbformat": 4,
 "nbformat_minor": 2
}
